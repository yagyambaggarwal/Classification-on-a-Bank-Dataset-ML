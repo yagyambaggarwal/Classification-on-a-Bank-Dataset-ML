{
 "cells": [
  {
   "cell_type": "markdown",
   "id": "41b22bbf-eb87-40ef-92a8-d86528555c31",
   "metadata": {},
   "source": [
    "# Binary Classification with a Bank Dataset\n",
    "\n",
    "https://www.kaggle.com/competitions/playground-series-s5e8/overview\n",
    "\n",
    "## Goal: The goal is to predict whether a client will subscribe to a bank term deposit. We'll be deploying various ML models and EDA techniques to achieve the Goal.\n",
    "\n",
    "## Data: \n",
    "    Data is taken from \n",
    "https://www.kaggle.com/competitions/playground-series-s5e8/data\n",
    "    \n",
    "        * train.csv - the training dataset; y is the binary target.\n",
    "        * test.csv - the test dataset; your objective is to predict the probability y for each row.\n",
    "        * sample_submission.csv - a sample submission file in the correct format.\n",
    "        \n",
    "    Data Dictionary:\n",
    "https://www.kaggle.com/datasets/sushant097/bank-marketing-dataset-full        \n",
    "\n",
    "## Evaluation: \n",
    "    Submissions are evaluated using ROC AUC between the predicted value and the observed target.\n",
    "https://scikit-learn.org/stable/modules/generated/sklearn.metrics.roc_auc_score.html"
   ]
  },
  {
   "cell_type": "code",
   "execution_count": 1,
   "id": "2aa0610d-2da7-4645-a77f-36b94770e3b4",
   "metadata": {},
   "outputs": [],
   "source": [
    "import pandas as pd\n",
    "import numpy as np"
   ]
  },
  {
   "cell_type": "code",
   "execution_count": 2,
   "id": "99382bdd-080c-4451-823d-1405eed8e33e",
   "metadata": {},
   "outputs": [
    {
     "data": {
      "text/html": [
       "<div>\n",
       "<style scoped>\n",
       "    .dataframe tbody tr th:only-of-type {\n",
       "        vertical-align: middle;\n",
       "    }\n",
       "\n",
       "    .dataframe tbody tr th {\n",
       "        vertical-align: top;\n",
       "    }\n",
       "\n",
       "    .dataframe thead th {\n",
       "        text-align: right;\n",
       "    }\n",
       "</style>\n",
       "<table border=\"1\" class=\"dataframe\">\n",
       "  <thead>\n",
       "    <tr style=\"text-align: right;\">\n",
       "      <th></th>\n",
       "      <th>id</th>\n",
       "      <th>age</th>\n",
       "      <th>job</th>\n",
       "      <th>marital</th>\n",
       "      <th>education</th>\n",
       "      <th>default</th>\n",
       "      <th>balance</th>\n",
       "      <th>housing</th>\n",
       "      <th>loan</th>\n",
       "      <th>contact</th>\n",
       "      <th>day</th>\n",
       "      <th>month</th>\n",
       "      <th>duration</th>\n",
       "      <th>campaign</th>\n",
       "      <th>pdays</th>\n",
       "      <th>previous</th>\n",
       "      <th>poutcome</th>\n",
       "      <th>y</th>\n",
       "    </tr>\n",
       "  </thead>\n",
       "  <tbody>\n",
       "    <tr>\n",
       "      <th>0</th>\n",
       "      <td>0</td>\n",
       "      <td>42</td>\n",
       "      <td>technician</td>\n",
       "      <td>married</td>\n",
       "      <td>secondary</td>\n",
       "      <td>no</td>\n",
       "      <td>7</td>\n",
       "      <td>no</td>\n",
       "      <td>no</td>\n",
       "      <td>cellular</td>\n",
       "      <td>25</td>\n",
       "      <td>aug</td>\n",
       "      <td>117</td>\n",
       "      <td>3</td>\n",
       "      <td>-1</td>\n",
       "      <td>0</td>\n",
       "      <td>unknown</td>\n",
       "      <td>0</td>\n",
       "    </tr>\n",
       "    <tr>\n",
       "      <th>1</th>\n",
       "      <td>1</td>\n",
       "      <td>38</td>\n",
       "      <td>blue-collar</td>\n",
       "      <td>married</td>\n",
       "      <td>secondary</td>\n",
       "      <td>no</td>\n",
       "      <td>514</td>\n",
       "      <td>no</td>\n",
       "      <td>no</td>\n",
       "      <td>unknown</td>\n",
       "      <td>18</td>\n",
       "      <td>jun</td>\n",
       "      <td>185</td>\n",
       "      <td>1</td>\n",
       "      <td>-1</td>\n",
       "      <td>0</td>\n",
       "      <td>unknown</td>\n",
       "      <td>0</td>\n",
       "    </tr>\n",
       "    <tr>\n",
       "      <th>2</th>\n",
       "      <td>2</td>\n",
       "      <td>36</td>\n",
       "      <td>blue-collar</td>\n",
       "      <td>married</td>\n",
       "      <td>secondary</td>\n",
       "      <td>no</td>\n",
       "      <td>602</td>\n",
       "      <td>yes</td>\n",
       "      <td>no</td>\n",
       "      <td>unknown</td>\n",
       "      <td>14</td>\n",
       "      <td>may</td>\n",
       "      <td>111</td>\n",
       "      <td>2</td>\n",
       "      <td>-1</td>\n",
       "      <td>0</td>\n",
       "      <td>unknown</td>\n",
       "      <td>0</td>\n",
       "    </tr>\n",
       "    <tr>\n",
       "      <th>3</th>\n",
       "      <td>3</td>\n",
       "      <td>27</td>\n",
       "      <td>student</td>\n",
       "      <td>single</td>\n",
       "      <td>secondary</td>\n",
       "      <td>no</td>\n",
       "      <td>34</td>\n",
       "      <td>yes</td>\n",
       "      <td>no</td>\n",
       "      <td>unknown</td>\n",
       "      <td>28</td>\n",
       "      <td>may</td>\n",
       "      <td>10</td>\n",
       "      <td>2</td>\n",
       "      <td>-1</td>\n",
       "      <td>0</td>\n",
       "      <td>unknown</td>\n",
       "      <td>0</td>\n",
       "    </tr>\n",
       "    <tr>\n",
       "      <th>4</th>\n",
       "      <td>4</td>\n",
       "      <td>26</td>\n",
       "      <td>technician</td>\n",
       "      <td>married</td>\n",
       "      <td>secondary</td>\n",
       "      <td>no</td>\n",
       "      <td>889</td>\n",
       "      <td>yes</td>\n",
       "      <td>no</td>\n",
       "      <td>cellular</td>\n",
       "      <td>3</td>\n",
       "      <td>feb</td>\n",
       "      <td>902</td>\n",
       "      <td>1</td>\n",
       "      <td>-1</td>\n",
       "      <td>0</td>\n",
       "      <td>unknown</td>\n",
       "      <td>1</td>\n",
       "    </tr>\n",
       "    <tr>\n",
       "      <th>...</th>\n",
       "      <td>...</td>\n",
       "      <td>...</td>\n",
       "      <td>...</td>\n",
       "      <td>...</td>\n",
       "      <td>...</td>\n",
       "      <td>...</td>\n",
       "      <td>...</td>\n",
       "      <td>...</td>\n",
       "      <td>...</td>\n",
       "      <td>...</td>\n",
       "      <td>...</td>\n",
       "      <td>...</td>\n",
       "      <td>...</td>\n",
       "      <td>...</td>\n",
       "      <td>...</td>\n",
       "      <td>...</td>\n",
       "      <td>...</td>\n",
       "      <td>...</td>\n",
       "    </tr>\n",
       "    <tr>\n",
       "      <th>749995</th>\n",
       "      <td>749995</td>\n",
       "      <td>29</td>\n",
       "      <td>services</td>\n",
       "      <td>single</td>\n",
       "      <td>secondary</td>\n",
       "      <td>no</td>\n",
       "      <td>1282</td>\n",
       "      <td>no</td>\n",
       "      <td>yes</td>\n",
       "      <td>unknown</td>\n",
       "      <td>4</td>\n",
       "      <td>jul</td>\n",
       "      <td>1006</td>\n",
       "      <td>2</td>\n",
       "      <td>-1</td>\n",
       "      <td>0</td>\n",
       "      <td>unknown</td>\n",
       "      <td>1</td>\n",
       "    </tr>\n",
       "    <tr>\n",
       "      <th>749996</th>\n",
       "      <td>749996</td>\n",
       "      <td>69</td>\n",
       "      <td>retired</td>\n",
       "      <td>divorced</td>\n",
       "      <td>tertiary</td>\n",
       "      <td>no</td>\n",
       "      <td>631</td>\n",
       "      <td>no</td>\n",
       "      <td>no</td>\n",
       "      <td>cellular</td>\n",
       "      <td>19</td>\n",
       "      <td>aug</td>\n",
       "      <td>87</td>\n",
       "      <td>1</td>\n",
       "      <td>-1</td>\n",
       "      <td>0</td>\n",
       "      <td>unknown</td>\n",
       "      <td>0</td>\n",
       "    </tr>\n",
       "    <tr>\n",
       "      <th>749997</th>\n",
       "      <td>749997</td>\n",
       "      <td>50</td>\n",
       "      <td>blue-collar</td>\n",
       "      <td>married</td>\n",
       "      <td>secondary</td>\n",
       "      <td>no</td>\n",
       "      <td>217</td>\n",
       "      <td>yes</td>\n",
       "      <td>no</td>\n",
       "      <td>cellular</td>\n",
       "      <td>17</td>\n",
       "      <td>apr</td>\n",
       "      <td>113</td>\n",
       "      <td>1</td>\n",
       "      <td>-1</td>\n",
       "      <td>0</td>\n",
       "      <td>unknown</td>\n",
       "      <td>0</td>\n",
       "    </tr>\n",
       "    <tr>\n",
       "      <th>749998</th>\n",
       "      <td>749998</td>\n",
       "      <td>32</td>\n",
       "      <td>technician</td>\n",
       "      <td>married</td>\n",
       "      <td>secondary</td>\n",
       "      <td>no</td>\n",
       "      <td>-274</td>\n",
       "      <td>no</td>\n",
       "      <td>no</td>\n",
       "      <td>cellular</td>\n",
       "      <td>26</td>\n",
       "      <td>aug</td>\n",
       "      <td>108</td>\n",
       "      <td>6</td>\n",
       "      <td>-1</td>\n",
       "      <td>0</td>\n",
       "      <td>unknown</td>\n",
       "      <td>0</td>\n",
       "    </tr>\n",
       "    <tr>\n",
       "      <th>749999</th>\n",
       "      <td>749999</td>\n",
       "      <td>42</td>\n",
       "      <td>technician</td>\n",
       "      <td>married</td>\n",
       "      <td>secondary</td>\n",
       "      <td>no</td>\n",
       "      <td>1559</td>\n",
       "      <td>no</td>\n",
       "      <td>no</td>\n",
       "      <td>cellular</td>\n",
       "      <td>4</td>\n",
       "      <td>aug</td>\n",
       "      <td>143</td>\n",
       "      <td>1</td>\n",
       "      <td>1</td>\n",
       "      <td>7</td>\n",
       "      <td>failure</td>\n",
       "      <td>0</td>\n",
       "    </tr>\n",
       "  </tbody>\n",
       "</table>\n",
       "<p>750000 rows × 18 columns</p>\n",
       "</div>"
      ],
      "text/plain": [
       "            id  age          job   marital  education default  balance  \\\n",
       "0            0   42   technician   married  secondary      no        7   \n",
       "1            1   38  blue-collar   married  secondary      no      514   \n",
       "2            2   36  blue-collar   married  secondary      no      602   \n",
       "3            3   27      student    single  secondary      no       34   \n",
       "4            4   26   technician   married  secondary      no      889   \n",
       "...        ...  ...          ...       ...        ...     ...      ...   \n",
       "749995  749995   29     services    single  secondary      no     1282   \n",
       "749996  749996   69      retired  divorced   tertiary      no      631   \n",
       "749997  749997   50  blue-collar   married  secondary      no      217   \n",
       "749998  749998   32   technician   married  secondary      no     -274   \n",
       "749999  749999   42   technician   married  secondary      no     1559   \n",
       "\n",
       "       housing loan   contact  day month  duration  campaign  pdays  previous  \\\n",
       "0           no   no  cellular   25   aug       117         3     -1         0   \n",
       "1           no   no   unknown   18   jun       185         1     -1         0   \n",
       "2          yes   no   unknown   14   may       111         2     -1         0   \n",
       "3          yes   no   unknown   28   may        10         2     -1         0   \n",
       "4          yes   no  cellular    3   feb       902         1     -1         0   \n",
       "...        ...  ...       ...  ...   ...       ...       ...    ...       ...   \n",
       "749995      no  yes   unknown    4   jul      1006         2     -1         0   \n",
       "749996      no   no  cellular   19   aug        87         1     -1         0   \n",
       "749997     yes   no  cellular   17   apr       113         1     -1         0   \n",
       "749998      no   no  cellular   26   aug       108         6     -1         0   \n",
       "749999      no   no  cellular    4   aug       143         1      1         7   \n",
       "\n",
       "       poutcome  y  \n",
       "0       unknown  0  \n",
       "1       unknown  0  \n",
       "2       unknown  0  \n",
       "3       unknown  0  \n",
       "4       unknown  1  \n",
       "...         ... ..  \n",
       "749995  unknown  1  \n",
       "749996  unknown  0  \n",
       "749997  unknown  0  \n",
       "749998  unknown  0  \n",
       "749999  failure  0  \n",
       "\n",
       "[750000 rows x 18 columns]"
      ]
     },
     "execution_count": 2,
     "metadata": {},
     "output_type": "execute_result"
    }
   ],
   "source": [
    "data = pd.read_csv(\"./Resources/train.csv\")\n",
    "data"
   ]
  },
  {
   "cell_type": "code",
   "execution_count": 3,
   "id": "9cbf529c-1291-4cc6-85ac-eeb99013bc14",
   "metadata": {},
   "outputs": [
    {
     "name": "stdout",
     "output_type": "stream",
     "text": [
      "<class 'pandas.core.frame.DataFrame'>\n",
      "RangeIndex: 750000 entries, 0 to 749999\n",
      "Data columns (total 18 columns):\n",
      " #   Column     Non-Null Count   Dtype \n",
      "---  ------     --------------   ----- \n",
      " 0   id         750000 non-null  int64 \n",
      " 1   age        750000 non-null  int64 \n",
      " 2   job        750000 non-null  object\n",
      " 3   marital    750000 non-null  object\n",
      " 4   education  750000 non-null  object\n",
      " 5   default    750000 non-null  object\n",
      " 6   balance    750000 non-null  int64 \n",
      " 7   housing    750000 non-null  object\n",
      " 8   loan       750000 non-null  object\n",
      " 9   contact    750000 non-null  object\n",
      " 10  day        750000 non-null  int64 \n",
      " 11  month      750000 non-null  object\n",
      " 12  duration   750000 non-null  int64 \n",
      " 13  campaign   750000 non-null  int64 \n",
      " 14  pdays      750000 non-null  int64 \n",
      " 15  previous   750000 non-null  int64 \n",
      " 16  poutcome   750000 non-null  object\n",
      " 17  y          750000 non-null  int64 \n",
      "dtypes: int64(9), object(9)\n",
      "memory usage: 103.0+ MB\n"
     ]
    }
   ],
   "source": [
    "data.info()"
   ]
  },
  {
   "cell_type": "markdown",
   "id": "bbaf4f30-e119-49e4-b7b2-24d0d10ae118",
   "metadata": {},
   "source": [
    "### Preprocessing of data:\n",
    "1. Converting object into pandas categories.\n",
    "2. Checking for missing values.\n",
    "3. Imputing missing values.\n",
    "4. Converting non-numeric to numeric."
   ]
  },
  {
   "cell_type": "code",
   "execution_count": 4,
   "id": "f9a1cec2-14bc-4b13-860d-78a3898dd32d",
   "metadata": {},
   "outputs": [
    {
     "data": {
      "text/plain": [
       "id           0\n",
       "age          0\n",
       "job          0\n",
       "marital      0\n",
       "education    0\n",
       "default      0\n",
       "balance      0\n",
       "housing      0\n",
       "loan         0\n",
       "contact      0\n",
       "day          0\n",
       "month        0\n",
       "duration     0\n",
       "campaign     0\n",
       "pdays        0\n",
       "previous     0\n",
       "poutcome     0\n",
       "y            0\n",
       "dtype: int64"
      ]
     },
     "execution_count": 4,
     "metadata": {},
     "output_type": "execute_result"
    }
   ],
   "source": [
    "# Checking for the missing values\n",
    "data.isna().sum()"
   ]
  },
  {
   "cell_type": "code",
   "execution_count": 3,
   "id": "11a60a4a-7a9b-4fcd-ae16-c07007d52263",
   "metadata": {},
   "outputs": [
    {
     "name": "stdout",
     "output_type": "stream",
     "text": [
      "['job', 'marital', 'education', 'default', 'housing', 'loan', 'contact', 'month', 'poutcome']\n"
     ]
    }
   ],
   "source": [
    "# checking for the non-numeric data type\n",
    "non_numeric_cols = []\n",
    "for name, content in data.items():\n",
    "    if not pd.api.types.is_numeric_dtype(content):\n",
    "        non_numeric_cols.append(name)\n",
    "\n",
    "print(non_numeric_cols)"
   ]
  },
  {
   "cell_type": "code",
   "execution_count": 4,
   "id": "1771eec1-794d-48fa-94d7-cd586b407d4d",
   "metadata": {},
   "outputs": [
    {
     "name": "stdout",
     "output_type": "stream",
     "text": [
      "<class 'pandas.core.frame.DataFrame'>\n",
      "RangeIndex: 750000 entries, 0 to 749999\n",
      "Data columns (total 18 columns):\n",
      " #   Column     Non-Null Count   Dtype\n",
      "---  ------     --------------   -----\n",
      " 0   id         750000 non-null  int64\n",
      " 1   age        750000 non-null  int64\n",
      " 2   job        750000 non-null  int8 \n",
      " 3   marital    750000 non-null  int8 \n",
      " 4   education  750000 non-null  int8 \n",
      " 5   default    750000 non-null  int8 \n",
      " 6   balance    750000 non-null  int64\n",
      " 7   housing    750000 non-null  int8 \n",
      " 8   loan       750000 non-null  int8 \n",
      " 9   contact    750000 non-null  int8 \n",
      " 10  day        750000 non-null  int64\n",
      " 11  month      750000 non-null  int8 \n",
      " 12  duration   750000 non-null  int64\n",
      " 13  campaign   750000 non-null  int64\n",
      " 14  pdays      750000 non-null  int64\n",
      " 15  previous   750000 non-null  int64\n",
      " 16  poutcome   750000 non-null  int8 \n",
      " 17  y          750000 non-null  int64\n",
      "dtypes: int64(9), int8(9)\n",
      "memory usage: 57.9 MB\n"
     ]
    }
   ],
   "source": [
    "# Turning non_numeric cols to categorical data\n",
    "\n",
    "for name in non_numeric_cols:\n",
    "    data[name] = pd.Categorical(data[name], ordered=True).codes\n",
    "\n",
    "data.info()"
   ]
  },
  {
   "cell_type": "code",
   "execution_count": 7,
   "id": "ec795550-a798-4e07-8258-7f89e494e34b",
   "metadata": {},
   "outputs": [
    {
     "data": {
      "text/plain": [
       "job\n",
       "4     175541\n",
       "1     170498\n",
       "9     138107\n",
       "0      81492\n",
       "7      64209\n",
       "5      35185\n",
       "6      19020\n",
       "2      17718\n",
       "10     17634\n",
       "3      15912\n",
       "8      11767\n",
       "11      2917\n",
       "Name: count, dtype: int64"
      ]
     },
     "execution_count": 7,
     "metadata": {},
     "output_type": "execute_result"
    }
   ],
   "source": [
    "data.job.value_counts()"
   ]
  },
  {
   "cell_type": "code",
   "execution_count": 8,
   "id": "94addb27-7d14-4a8c-80bf-0976b9861b2c",
   "metadata": {},
   "outputs": [
    {
     "data": {
      "text/plain": [
       "job\n",
       "management       175541\n",
       "blue-collar      170498\n",
       "technician       138107\n",
       "admin.            81492\n",
       "services          64209\n",
       "retired           35185\n",
       "self-employed     19020\n",
       "entrepreneur      17718\n",
       "unemployed        17634\n",
       "housemaid         15912\n",
       "student           11767\n",
       "unknown            2917\n",
       "Name: count, dtype: int64"
      ]
     },
     "execution_count": 8,
     "metadata": {},
     "output_type": "execute_result"
    }
   ],
   "source": [
    "original_data = pd.read_csv(\"./Resources/train.csv\")\n",
    "original_data.job.value_counts()"
   ]
  },
  {
   "cell_type": "code",
   "execution_count": 9,
   "id": "6d28b20c-cf02-4712-b786-325dafd6640e",
   "metadata": {},
   "outputs": [
    {
     "data": {
      "text/plain": [
       "(marital\n",
       " married     480759\n",
       " single      194834\n",
       " divorced     74407\n",
       " Name: count, dtype: int64,\n",
       " marital\n",
       " 1    480759\n",
       " 2    194834\n",
       " 0     74407\n",
       " Name: count, dtype: int64)"
      ]
     },
     "execution_count": 9,
     "metadata": {},
     "output_type": "execute_result"
    }
   ],
   "source": [
    "original_data.marital.value_counts(), data.marital.value_counts()"
   ]
  },
  {
   "cell_type": "markdown",
   "id": "f2b7882d-c690-4a6a-809c-f926df1c1c70",
   "metadata": {},
   "source": [
    "### EDA to check for the sensible features"
   ]
  },
  {
   "cell_type": "code",
   "execution_count": 10,
   "id": "dfa1329b-1c10-49d4-96f4-18ca4e0200ef",
   "metadata": {},
   "outputs": [
    {
     "name": "stdout",
     "output_type": "stream",
     "text": [
      "<class 'pandas.core.frame.DataFrame'>\n",
      "RangeIndex: 750000 entries, 0 to 749999\n",
      "Data columns (total 18 columns):\n",
      " #   Column     Non-Null Count   Dtype\n",
      "---  ------     --------------   -----\n",
      " 0   id         750000 non-null  int64\n",
      " 1   age        750000 non-null  int64\n",
      " 2   job        750000 non-null  int8 \n",
      " 3   marital    750000 non-null  int8 \n",
      " 4   education  750000 non-null  int8 \n",
      " 5   default    750000 non-null  int8 \n",
      " 6   balance    750000 non-null  int64\n",
      " 7   housing    750000 non-null  int8 \n",
      " 8   loan       750000 non-null  int8 \n",
      " 9   contact    750000 non-null  int8 \n",
      " 10  day        750000 non-null  int64\n",
      " 11  month      750000 non-null  int8 \n",
      " 12  duration   750000 non-null  int64\n",
      " 13  campaign   750000 non-null  int64\n",
      " 14  pdays      750000 non-null  int64\n",
      " 15  previous   750000 non-null  int64\n",
      " 16  poutcome   750000 non-null  int8 \n",
      " 17  y          750000 non-null  int64\n",
      "dtypes: int64(9), int8(9)\n",
      "memory usage: 57.9 MB\n"
     ]
    }
   ],
   "source": [
    "data.info()"
   ]
  },
  {
   "cell_type": "code",
   "execution_count": 11,
   "id": "ebeaefb3-2933-4b83-beee-ababc7c9d8f9",
   "metadata": {},
   "outputs": [
    {
     "data": {
      "text/plain": [
       "750000"
      ]
     },
     "execution_count": 11,
     "metadata": {},
     "output_type": "execute_result"
    }
   ],
   "source": [
    "len(data.id.unique())"
   ]
  },
  {
   "cell_type": "code",
   "execution_count": 5,
   "id": "33a7d577-41bc-4e63-b73d-e2594c4a5a6e",
   "metadata": {},
   "outputs": [],
   "source": [
    "# Dropping ID col as all are unique and model will not derive any pattern on it.\n",
    "data.drop(\"id\", axis = 1, inplace = True)"
   ]
  },
  {
   "cell_type": "code",
   "execution_count": 6,
   "id": "ca633ceb-0183-4e72-9e49-f0026e171865",
   "metadata": {},
   "outputs": [
    {
     "name": "stdout",
     "output_type": "stream",
     "text": [
      "<class 'pandas.core.frame.DataFrame'>\n",
      "RangeIndex: 750000 entries, 0 to 749999\n",
      "Data columns (total 17 columns):\n",
      " #   Column     Non-Null Count   Dtype\n",
      "---  ------     --------------   -----\n",
      " 0   age        750000 non-null  int64\n",
      " 1   job        750000 non-null  int8 \n",
      " 2   marital    750000 non-null  int8 \n",
      " 3   education  750000 non-null  int8 \n",
      " 4   default    750000 non-null  int8 \n",
      " 5   balance    750000 non-null  int64\n",
      " 6   housing    750000 non-null  int8 \n",
      " 7   loan       750000 non-null  int8 \n",
      " 8   contact    750000 non-null  int8 \n",
      " 9   day        750000 non-null  int64\n",
      " 10  month      750000 non-null  int8 \n",
      " 11  duration   750000 non-null  int64\n",
      " 12  campaign   750000 non-null  int64\n",
      " 13  pdays      750000 non-null  int64\n",
      " 14  previous   750000 non-null  int64\n",
      " 15  poutcome   750000 non-null  int8 \n",
      " 16  y          750000 non-null  int64\n",
      "dtypes: int64(8), int8(9)\n",
      "memory usage: 52.2 MB\n"
     ]
    }
   ],
   "source": [
    "data.info()"
   ]
  },
  {
   "cell_type": "markdown",
   "id": "a5330b55-733e-4f69-88a9-27b8196e8056",
   "metadata": {},
   "source": [
    "#### Let's see how much `marital type` influences the `target`\n"
   ]
  },
  {
   "cell_type": "code",
   "execution_count": 14,
   "id": "bbaf9c04-0fb6-47c8-ba68-f235ecbc93ed",
   "metadata": {},
   "outputs": [
    {
     "data": {
      "text/plain": [
       "(marital\n",
       " 1    480759\n",
       " 2    194834\n",
       " 0     74407\n",
       " Name: count, dtype: int64,\n",
       " marital\n",
       " married     480759\n",
       " single      194834\n",
       " divorced     74407\n",
       " Name: count, dtype: int64)"
      ]
     },
     "execution_count": 14,
     "metadata": {},
     "output_type": "execute_result"
    }
   ],
   "source": [
    "data.marital.value_counts(), original_data.marital.value_counts()"
   ]
  },
  {
   "cell_type": "code",
   "execution_count": 15,
   "id": "d2d61fc6-c74d-46a8-8668-fc59b65b6821",
   "metadata": {},
   "outputs": [
    {
     "name": "stdout",
     "output_type": "stream",
     "text": [
      "90488 90488\n"
     ]
    }
   ],
   "source": [
    "married_1 = ((original_data.marital == \"married\") & (data.y == 1)).sum()\n",
    "\n",
    "single_1 = ((original_data.marital == \"single\") & (data.y == 1)).sum()\n",
    "\n",
    "divorced_1 = ((original_data.marital == \"divorced\") & (data.y == 1)).sum()\n",
    "print(married_1 + single_1 + divorced_1, (data.y == 1).sum())"
   ]
  },
  {
   "cell_type": "code",
   "execution_count": 16,
   "id": "4d37d419-d3af-465b-8df9-d0dfdf3e40c1",
   "metadata": {},
   "outputs": [
    {
     "name": "stdout",
     "output_type": "stream",
     "text": [
      "{'Married': np.int64(48976), 'Single': np.int64(33210), 'Divorced': np.int64(8302)}\n"
     ]
    },
    {
     "data": {
      "image/png": "[encoded data removed]",
      "text/plain": [
       "<Figure size 800x400 with 1 Axes>"
      ]
     },
     "metadata": {},
     "output_type": "display_data"
    }
   ],
   "source": [
    "import matplotlib.pyplot as plt\n",
    "\n",
    "\n",
    "fig, ax = plt.subplots(figsize = (8, 4))\n",
    "colors = [\"orange\", \"salmon\", \"brown\"]\n",
    "ax.bar([\"Married\", \"Single\", \"Divorced\"], [married_1, single_1, divorced_1], color= colors)\n",
    "ax.set(xlabel = \"Marital Status\", ylabel = \"Subscribed Count\", title = \"People who subscribed\");\n",
    "print({\"Married\" : married_1, \n",
    "       \"Single\" : single_1, \n",
    "       \"Divorced\" : divorced_1})"
   ]
  },
  {
   "cell_type": "code",
   "execution_count": 17,
   "id": "743c44ca-a1e4-433a-8323-c373995af7a5",
   "metadata": {},
   "outputs": [
    {
     "data": {
      "image/png": "[encoded data removed]",
      "text/plain": [
       "<Figure size 640x480 with 1 Axes>"
      ]
     },
     "metadata": {},
     "output_type": "display_data"
    }
   ],
   "source": [
    "plt.pie([married_1, single_1, divorced_1], labels = [\"Married\", \"Single\", \"Divorced\"], autopct = '%1.2f%%', startangle = 90, colors = [\"orange\", \"salmon\", \"brown\"]);\n",
    "plt.title(\"People who subscribed\", fontsize = 14);"
   ]
  },
  {
   "cell_type": "code",
   "execution_count": 18,
   "id": "f308c8bd-d1d4-471d-83a2-f3a44f7e7daa",
   "metadata": {},
   "outputs": [
    {
     "name": "stdout",
     "output_type": "stream",
     "text": [
      "<class 'pandas.core.frame.DataFrame'>\n",
      "RangeIndex: 750000 entries, 0 to 749999\n",
      "Data columns (total 17 columns):\n",
      " #   Column     Non-Null Count   Dtype\n",
      "---  ------     --------------   -----\n",
      " 0   age        750000 non-null  int64\n",
      " 1   job        750000 non-null  int8 \n",
      " 2   marital    750000 non-null  int8 \n",
      " 3   education  750000 non-null  int8 \n",
      " 4   default    750000 non-null  int8 \n",
      " 5   balance    750000 non-null  int64\n",
      " 6   housing    750000 non-null  int8 \n",
      " 7   loan       750000 non-null  int8 \n",
      " 8   contact    750000 non-null  int8 \n",
      " 9   day        750000 non-null  int64\n",
      " 10  month      750000 non-null  int8 \n",
      " 11  duration   750000 non-null  int64\n",
      " 12  campaign   750000 non-null  int64\n",
      " 13  pdays      750000 non-null  int64\n",
      " 14  previous   750000 non-null  int64\n",
      " 15  poutcome   750000 non-null  int8 \n",
      " 16  y          750000 non-null  int64\n",
      "dtypes: int64(8), int8(9)\n",
      "memory usage: 52.2 MB\n"
     ]
    }
   ],
   "source": [
    "data.info()"
   ]
  },
  {
   "cell_type": "markdown",
   "id": "0d7e3041-6087-450b-ba35-511baf784a6e",
   "metadata": {},
   "source": [
    "### Modelling\n",
    "1. data prep\n",
    "2. Model selection"
   ]
  },
  {
   "cell_type": "code",
   "execution_count": 19,
   "id": "8816fcdb-2269-49d5-a45a-4bbcec68d49e",
   "metadata": {},
   "outputs": [
    {
     "name": "stdout",
     "output_type": "stream",
     "text": [
      "<class 'pandas.core.frame.DataFrame'>\n",
      "RangeIndex: 750000 entries, 0 to 749999\n",
      "Data columns (total 17 columns):\n",
      " #   Column     Non-Null Count   Dtype\n",
      "---  ------     --------------   -----\n",
      " 0   age        750000 non-null  int64\n",
      " 1   job        750000 non-null  int8 \n",
      " 2   marital    750000 non-null  int8 \n",
      " 3   education  750000 non-null  int8 \n",
      " 4   default    750000 non-null  int8 \n",
      " 5   balance    750000 non-null  int64\n",
      " 6   housing    750000 non-null  int8 \n",
      " 7   loan       750000 non-null  int8 \n",
      " 8   contact    750000 non-null  int8 \n",
      " 9   day        750000 non-null  int64\n",
      " 10  month      750000 non-null  int8 \n",
      " 11  duration   750000 non-null  int64\n",
      " 12  campaign   750000 non-null  int64\n",
      " 13  pdays      750000 non-null  int64\n",
      " 14  previous   750000 non-null  int64\n",
      " 15  poutcome   750000 non-null  int8 \n",
      " 16  y          750000 non-null  int64\n",
      "dtypes: int64(8), int8(9)\n",
      "memory usage: 52.2 MB\n"
     ]
    }
   ],
   "source": [
    "data.info()"
   ]
  },
  {
   "cell_type": "code",
   "execution_count": 20,
   "id": "c55c8954-27e3-4262-a142-175190651bff",
   "metadata": {},
   "outputs": [],
   "source": [
    "# Making features and labels\n",
    "\n",
    "X = data.drop(\"y\", axis = 1)\n",
    "y = data[\"y\"]"
   ]
  },
  {
   "cell_type": "code",
   "execution_count": 21,
   "id": "abf0ae45-c255-47f0-a258-92f745846258",
   "metadata": {},
   "outputs": [],
   "source": [
    "# train_test_split\n",
    "from sklearn.model_selection import train_test_split\n",
    "X_train, X_test, y_train, y_test = train_test_split(X, y, test_size = (0.5))"
   ]
  },
  {
   "cell_type": "code",
   "execution_count": 7,
   "id": "87b395a8-a261-4e5c-b8ae-3e43dd283780",
   "metadata": {},
   "outputs": [],
   "source": [
    "# Importing test data\n",
    "test_data = pd.read_csv(\"./Resources/test.csv\")\n",
    "test_data.head(10)\n",
    "np.random.seed(42)\n",
    "# Preprocessing the test data => converting the non-numeric to numeric types\n",
    "for name, content in test_data.items():\n",
    "    if not pd.api.types.is_numeric_dtype(content):\n",
    "        test_data[name] = pd.Categorical(content).codes"
   ]
  },
  {
   "cell_type": "code",
   "execution_count": 8,
   "id": "d17d76fd-9167-44cb-8c78-6d8e4b9a4eb5",
   "metadata": {},
   "outputs": [
    {
     "name": "stdout",
     "output_type": "stream",
     "text": [
      "<class 'pandas.core.frame.DataFrame'>\n",
      "RangeIndex: 250000 entries, 0 to 249999\n",
      "Data columns (total 17 columns):\n",
      " #   Column     Non-Null Count   Dtype\n",
      "---  ------     --------------   -----\n",
      " 0   id         250000 non-null  int64\n",
      " 1   age        250000 non-null  int64\n",
      " 2   job        250000 non-null  int8 \n",
      " 3   marital    250000 non-null  int8 \n",
      " 4   education  250000 non-null  int8 \n",
      " 5   default    250000 non-null  int8 \n",
      " 6   balance    250000 non-null  int64\n",
      " 7   housing    250000 non-null  int8 \n",
      " 8   loan       250000 non-null  int8 \n",
      " 9   contact    250000 non-null  int8 \n",
      " 10  day        250000 non-null  int64\n",
      " 11  month      250000 non-null  int8 \n",
      " 12  duration   250000 non-null  int64\n",
      " 13  campaign   250000 non-null  int64\n",
      " 14  pdays      250000 non-null  int64\n",
      " 15  previous   250000 non-null  int64\n",
      " 16  poutcome   250000 non-null  int8 \n",
      "dtypes: int64(8), int8(9)\n",
      "memory usage: 17.4 MB\n"
     ]
    }
   ],
   "source": [
    "test_data.info()"
   ]
  },
  {
   "cell_type": "code",
   "execution_count": 9,
   "id": "2e5e9a64-4a03-4259-8250-d3d646e179f2",
   "metadata": {},
   "outputs": [
    {
     "name": "stdout",
     "output_type": "stream",
     "text": [
      "<class 'pandas.core.frame.DataFrame'>\n",
      "RangeIndex: 250000 entries, 0 to 249999\n",
      "Data columns (total 16 columns):\n",
      " #   Column     Non-Null Count   Dtype\n",
      "---  ------     --------------   -----\n",
      " 0   age        250000 non-null  int64\n",
      " 1   job        250000 non-null  int8 \n",
      " 2   marital    250000 non-null  int8 \n",
      " 3   education  250000 non-null  int8 \n",
      " 4   default    250000 non-null  int8 \n",
      " 5   balance    250000 non-null  int64\n",
      " 6   housing    250000 non-null  int8 \n",
      " 7   loan       250000 non-null  int8 \n",
      " 8   contact    250000 non-null  int8 \n",
      " 9   day        250000 non-null  int64\n",
      " 10  month      250000 non-null  int8 \n",
      " 11  duration   250000 non-null  int64\n",
      " 12  campaign   250000 non-null  int64\n",
      " 13  pdays      250000 non-null  int64\n",
      " 14  previous   250000 non-null  int64\n",
      " 15  poutcome   250000 non-null  int8 \n",
      "dtypes: int64(7), int8(9)\n",
      "memory usage: 15.5 MB\n"
     ]
    }
   ],
   "source": [
    "# Dropping the ID columns as well from the test data so as to be similar to the training data.\n",
    "# To submit, we'll need ID's, thus we aren't shuffling any of the test_data's result and thus can be directly sent.\\\n",
    "\n",
    "test_data.drop(\"id\", axis = 1, inplace = True)\n",
    "test_data.info()"
   ]
  },
  {
   "cell_type": "code",
   "execution_count": 25,
   "id": "e9f13197-76ee-4bcd-a8cc-6536055d0ff5",
   "metadata": {},
   "outputs": [],
   "source": [
    "# Estimator\n",
    "\n",
    "from sklearn.linear_model import LogisticRegression, SGDClassifier\n",
    "from sklearn.ensemble import RandomForestClassifier\n",
    "from sklearn.neighbors import KNeighborsClassifier"
   ]
  },
  {
   "cell_type": "code",
   "execution_count": 26,
   "id": "4e2373ca-5195-4a42-9cf1-a544a2d9a453",
   "metadata": {},
   "outputs": [],
   "source": [
    "models = {\"Logistic Regression\" : LogisticRegression(),\n",
    "          \"SGD Classifier\" : SGDClassifier(),\n",
    "          \"Random Forest\" : RandomForestClassifier(n_estimators=50, n_jobs=-1),\n",
    "          \"KNN Classifier\" : KNeighborsClassifier()}\n",
    "model_score = {}\n",
    "def modelling_scoring(models, X_train, y_train, X_test, y_test):\n",
    "    \"\"\"\n",
    "    Custom Function to predict the scores while testing on various models.\n",
    "    \"\"\"\n",
    "    for name, model in models.items():\n",
    "        # Fitting on the data of 1 lakhs only\n",
    "        model.fit(X_train[ : 10000], y_train[ : 10000])\n",
    "        model_score[name] = model.score(X_test, y_test)\n",
    "\n",
    "    # Visualizing the model_scores \n",
    "    plt.style.use(\"fivethirtyeight\")\n",
    "    fig, ax = plt.subplots(figsize = (6, 4))\n",
    "    ax.bar(model_score.keys(), model_score.values(), color = [\"salmon\", \"lightblue\", \"orange\", \"violet\"])\n",
    "    ax.set(xlabel = \"Models\", ylabel = \"Accuracy\", title = \"Accuracy of different models\");"
   ]
  },
  {
   "cell_type": "code",
   "execution_count": 27,
   "id": "21f8e44a-5d44-49a9-b368-5b2ee5bb3bb2",
   "metadata": {},
   "outputs": [
    {
     "name": "stderr",
     "output_type": "stream",
     "text": [
      "C:\\Users\\pc\\AppData\\Local\\Programs\\Python\\Python312\\Lib\\site-packages\\sklearn\\linear_model\\_logistic.py:470: ConvergenceWarning: lbfgs failed to converge after 100 iteration(s) (status=1):\n",
      "STOP: TOTAL NO. OF ITERATIONS REACHED LIMIT\n",
      "\n",
      "Increase the number of iterations to improve the convergence (max_iter=100).\n",
      "You might also want to scale the data as shown in:\n",
      "    https://scikit-learn.org/stable/modules/preprocessing.html\n",
      "Please also refer to the documentation for alternative solver options:\n",
      "    https://scikit-learn.org/stable/modules/linear_model.html#logistic-regression\n",
      "  n_iter_i = _check_optimize_result(\n"
     ]
    },
    {
     "ename": "KeyboardInterrupt",
     "evalue": "",
     "output_type": "error",
     "traceback": [
      "\u001b[1;31m---------------------------------------------------------------------------\u001b[0m",
      "\u001b[1;31mKeyboardInterrupt\u001b[0m                         Traceback (most recent call last)",
      "Cell \u001b[1;32mIn[27], line 1\u001b[0m\n\u001b[1;32m----> 1\u001b[0m \u001b[43mmodelling_scoring\u001b[49m\u001b[43m(\u001b[49m\u001b[43mmodels\u001b[49m\u001b[43m,\u001b[49m\u001b[43m \u001b[49m\u001b[43mX_train\u001b[49m\u001b[43m,\u001b[49m\u001b[43m \u001b[49m\u001b[43my_train\u001b[49m\u001b[43m,\u001b[49m\u001b[43m \u001b[49m\u001b[43mX_test\u001b[49m\u001b[43m,\u001b[49m\u001b[43m \u001b[49m\u001b[43my_test\u001b[49m\u001b[43m)\u001b[49m\n",
      "Cell \u001b[1;32mIn[26], line 13\u001b[0m, in \u001b[0;36mmodelling_scoring\u001b[1;34m(models, X_train, y_train, X_test, y_test)\u001b[0m\n\u001b[0;32m     10\u001b[0m \u001b[38;5;28;01mfor\u001b[39;00m name, model \u001b[38;5;129;01min\u001b[39;00m models\u001b[38;5;241m.\u001b[39mitems():\n\u001b[0;32m     11\u001b[0m     \u001b[38;5;66;03m# Fitting on the data of 1 lakhs only\u001b[39;00m\n\u001b[0;32m     12\u001b[0m     model\u001b[38;5;241m.\u001b[39mfit(X_train[ : \u001b[38;5;241m10000\u001b[39m], y_train[ : \u001b[38;5;241m10000\u001b[39m])\n\u001b[1;32m---> 13\u001b[0m     model_score[name] \u001b[38;5;241m=\u001b[39m \u001b[43mmodel\u001b[49m\u001b[38;5;241;43m.\u001b[39;49m\u001b[43mscore\u001b[49m\u001b[43m(\u001b[49m\u001b[43mX_test\u001b[49m\u001b[43m,\u001b[49m\u001b[43m \u001b[49m\u001b[43my_test\u001b[49m\u001b[43m)\u001b[49m\n\u001b[0;32m     15\u001b[0m \u001b[38;5;66;03m# Visualizing the model_scores \u001b[39;00m\n\u001b[0;32m     16\u001b[0m plt\u001b[38;5;241m.\u001b[39mstyle\u001b[38;5;241m.\u001b[39muse(\u001b[38;5;124m\"\u001b[39m\u001b[38;5;124mfivethirtyeight\u001b[39m\u001b[38;5;124m\"\u001b[39m)\n",
      "File \u001b[1;32m~\\AppData\\Local\\Programs\\Python\\Python312\\Lib\\site-packages\\sklearn\\neighbors\\_classification.py:446\u001b[0m, in \u001b[0;36mKNeighborsClassifier.score\u001b[1;34m(self, X, y, sample_weight)\u001b[0m\n\u001b[0;32m    417\u001b[0m \u001b[38;5;28;01mdef\u001b[39;00m \u001b[38;5;21mscore\u001b[39m(\u001b[38;5;28mself\u001b[39m, X, y, sample_weight\u001b[38;5;241m=\u001b[39m\u001b[38;5;28;01mNone\u001b[39;00m):\n\u001b[0;32m    418\u001b[0m \u001b[38;5;250m    \u001b[39m\u001b[38;5;124;03m\"\"\"\u001b[39;00m\n\u001b[0;32m    419\u001b[0m \u001b[38;5;124;03m    Return the mean accuracy on the given test data and labels.\u001b[39;00m\n\u001b[0;32m    420\u001b[0m \n\u001b[1;32m   (...)\u001b[0m\n\u001b[0;32m    444\u001b[0m \u001b[38;5;124;03m        Mean accuracy of ``self.predict(X)`` w.r.t. `y`.\u001b[39;00m\n\u001b[0;32m    445\u001b[0m \u001b[38;5;124;03m    \"\"\"\u001b[39;00m\n\u001b[1;32m--> 446\u001b[0m     \u001b[38;5;28;01mreturn\u001b[39;00m \u001b[38;5;28;43msuper\u001b[39;49m\u001b[43m(\u001b[49m\u001b[43m)\u001b[49m\u001b[38;5;241;43m.\u001b[39;49m\u001b[43mscore\u001b[49m\u001b[43m(\u001b[49m\u001b[43mX\u001b[49m\u001b[43m,\u001b[49m\u001b[43m \u001b[49m\u001b[43my\u001b[49m\u001b[43m,\u001b[49m\u001b[43m \u001b[49m\u001b[43msample_weight\u001b[49m\u001b[43m)\u001b[49m\n",
      "File \u001b[1;32m~\\AppData\\Local\\Programs\\Python\\Python312\\Lib\\site-packages\\sklearn\\base.py:546\u001b[0m, in \u001b[0;36mClassifierMixin.score\u001b[1;34m(self, X, y, sample_weight)\u001b[0m\n\u001b[0;32m    521\u001b[0m \u001b[38;5;250m\u001b[39m\u001b[38;5;124;03m\"\"\"\u001b[39;00m\n\u001b[0;32m    522\u001b[0m \u001b[38;5;124;03mReturn :ref:`accuracy <accuracy_score>` on provided data and labels.\u001b[39;00m\n\u001b[0;32m    523\u001b[0m \n\u001b[1;32m   (...)\u001b[0m\n\u001b[0;32m    542\u001b[0m \u001b[38;5;124;03m    Mean accuracy of ``self.predict(X)`` w.r.t. `y`.\u001b[39;00m\n\u001b[0;32m    543\u001b[0m \u001b[38;5;124;03m\"\"\"\u001b[39;00m\n\u001b[0;32m    544\u001b[0m \u001b[38;5;28;01mfrom\u001b[39;00m \u001b[38;5;21;01m.\u001b[39;00m\u001b[38;5;21;01mmetrics\u001b[39;00m \u001b[38;5;28;01mimport\u001b[39;00m accuracy_score\n\u001b[1;32m--> 546\u001b[0m \u001b[38;5;28;01mreturn\u001b[39;00m accuracy_score(y, \u001b[38;5;28;43mself\u001b[39;49m\u001b[38;5;241;43m.\u001b[39;49m\u001b[43mpredict\u001b[49m\u001b[43m(\u001b[49m\u001b[43mX\u001b[49m\u001b[43m)\u001b[49m, sample_weight\u001b[38;5;241m=\u001b[39msample_weight)\n",
      "File \u001b[1;32m~\\AppData\\Local\\Programs\\Python\\Python312\\Lib\\site-packages\\sklearn\\neighbors\\_classification.py:274\u001b[0m, in \u001b[0;36mKNeighborsClassifier.predict\u001b[1;34m(self, X)\u001b[0m\n\u001b[0;32m    271\u001b[0m         \u001b[38;5;28;01mreturn\u001b[39;00m \u001b[38;5;28mself\u001b[39m\u001b[38;5;241m.\u001b[39mclasses_[np\u001b[38;5;241m.\u001b[39margmax(probabilities, axis\u001b[38;5;241m=\u001b[39m\u001b[38;5;241m1\u001b[39m)]\n\u001b[0;32m    272\u001b[0m     \u001b[38;5;66;03m# In that case, we do not need the distances to perform\u001b[39;00m\n\u001b[0;32m    273\u001b[0m     \u001b[38;5;66;03m# the weighting so we do not compute them.\u001b[39;00m\n\u001b[1;32m--> 274\u001b[0m     neigh_ind \u001b[38;5;241m=\u001b[39m \u001b[38;5;28;43mself\u001b[39;49m\u001b[38;5;241;43m.\u001b[39;49m\u001b[43mkneighbors\u001b[49m\u001b[43m(\u001b[49m\u001b[43mX\u001b[49m\u001b[43m,\u001b[49m\u001b[43m \u001b[49m\u001b[43mreturn_distance\u001b[49m\u001b[38;5;241;43m=\u001b[39;49m\u001b[38;5;28;43;01mFalse\u001b[39;49;00m\u001b[43m)\u001b[49m\n\u001b[0;32m    275\u001b[0m     neigh_dist \u001b[38;5;241m=\u001b[39m \u001b[38;5;28;01mNone\u001b[39;00m\n\u001b[0;32m    276\u001b[0m \u001b[38;5;28;01melse\u001b[39;00m:\n",
      "File \u001b[1;32m~\\AppData\\Local\\Programs\\Python\\Python312\\Lib\\site-packages\\sklearn\\neighbors\\_base.py:906\u001b[0m, in \u001b[0;36mKNeighborsMixin.kneighbors\u001b[1;34m(self, X, n_neighbors, return_distance)\u001b[0m\n\u001b[0;32m    903\u001b[0m     \u001b[38;5;28;01melse\u001b[39;00m:\n\u001b[0;32m    904\u001b[0m         kwds \u001b[38;5;241m=\u001b[39m \u001b[38;5;28mself\u001b[39m\u001b[38;5;241m.\u001b[39meffective_metric_params_\n\u001b[1;32m--> 906\u001b[0m     chunked_results \u001b[38;5;241m=\u001b[39m \u001b[38;5;28;43mlist\u001b[39;49m\u001b[43m(\u001b[49m\n\u001b[0;32m    907\u001b[0m \u001b[43m        \u001b[49m\u001b[43mpairwise_distances_chunked\u001b[49m\u001b[43m(\u001b[49m\n\u001b[0;32m    908\u001b[0m \u001b[43m            \u001b[49m\u001b[43mX\u001b[49m\u001b[43m,\u001b[49m\n\u001b[0;32m    909\u001b[0m \u001b[43m            \u001b[49m\u001b[38;5;28;43mself\u001b[39;49m\u001b[38;5;241;43m.\u001b[39;49m\u001b[43m_fit_X\u001b[49m\u001b[43m,\u001b[49m\n\u001b[0;32m    910\u001b[0m \u001b[43m            \u001b[49m\u001b[43mreduce_func\u001b[49m\u001b[38;5;241;43m=\u001b[39;49m\u001b[43mreduce_func\u001b[49m\u001b[43m,\u001b[49m\n\u001b[0;32m    911\u001b[0m \u001b[43m            \u001b[49m\u001b[43mmetric\u001b[49m\u001b[38;5;241;43m=\u001b[39;49m\u001b[38;5;28;43mself\u001b[39;49m\u001b[38;5;241;43m.\u001b[39;49m\u001b[43meffective_metric_\u001b[49m\u001b[43m,\u001b[49m\n\u001b[0;32m    912\u001b[0m \u001b[43m            \u001b[49m\u001b[43mn_jobs\u001b[49m\u001b[38;5;241;43m=\u001b[39;49m\u001b[43mn_jobs\u001b[49m\u001b[43m,\u001b[49m\n\u001b[0;32m    913\u001b[0m \u001b[43m            \u001b[49m\u001b[38;5;241;43m*\u001b[39;49m\u001b[38;5;241;43m*\u001b[39;49m\u001b[43mkwds\u001b[49m\u001b[43m,\u001b[49m\n\u001b[0;32m    914\u001b[0m \u001b[43m        \u001b[49m\u001b[43m)\u001b[49m\n\u001b[0;32m    915\u001b[0m \u001b[43m    \u001b[49m\u001b[43m)\u001b[49m\n\u001b[0;32m    917\u001b[0m \u001b[38;5;28;01melif\u001b[39;00m \u001b[38;5;28mself\u001b[39m\u001b[38;5;241m.\u001b[39m_fit_method \u001b[38;5;129;01min\u001b[39;00m [\u001b[38;5;124m\"\u001b[39m\u001b[38;5;124mball_tree\u001b[39m\u001b[38;5;124m\"\u001b[39m, \u001b[38;5;124m\"\u001b[39m\u001b[38;5;124mkd_tree\u001b[39m\u001b[38;5;124m\"\u001b[39m]:\n\u001b[0;32m    918\u001b[0m     \u001b[38;5;28;01mif\u001b[39;00m issparse(X):\n",
      "File \u001b[1;32m~\\AppData\\Local\\Programs\\Python\\Python312\\Lib\\site-packages\\sklearn\\metrics\\pairwise.py:2249\u001b[0m, in \u001b[0;36mpairwise_distances_chunked\u001b[1;34m(X, Y, reduce_func, metric, n_jobs, working_memory, **kwds)\u001b[0m\n\u001b[0;32m   2247\u001b[0m \u001b[38;5;28;01mif\u001b[39;00m reduce_func \u001b[38;5;129;01mis\u001b[39;00m \u001b[38;5;129;01mnot\u001b[39;00m \u001b[38;5;28;01mNone\u001b[39;00m:\n\u001b[0;32m   2248\u001b[0m     chunk_size \u001b[38;5;241m=\u001b[39m D_chunk\u001b[38;5;241m.\u001b[39mshape[\u001b[38;5;241m0\u001b[39m]\n\u001b[1;32m-> 2249\u001b[0m     D_chunk \u001b[38;5;241m=\u001b[39m \u001b[43mreduce_func\u001b[49m\u001b[43m(\u001b[49m\u001b[43mD_chunk\u001b[49m\u001b[43m,\u001b[49m\u001b[43m \u001b[49m\u001b[43msl\u001b[49m\u001b[38;5;241;43m.\u001b[39;49m\u001b[43mstart\u001b[49m\u001b[43m)\u001b[49m\n\u001b[0;32m   2250\u001b[0m     _check_chunk_size(D_chunk, chunk_size)\n\u001b[0;32m   2251\u001b[0m \u001b[38;5;28;01myield\u001b[39;00m D_chunk\n",
      "File \u001b[1;32m~\\AppData\\Local\\Programs\\Python\\Python312\\Lib\\site-packages\\sklearn\\neighbors\\_base.py:750\u001b[0m, in \u001b[0;36mKNeighborsMixin._kneighbors_reduce_func\u001b[1;34m(self, dist, start, n_neighbors, return_distance)\u001b[0m\n\u001b[0;32m    723\u001b[0m \u001b[38;5;250m\u001b[39m\u001b[38;5;124;03m\"\"\"Reduce a chunk of distances to the nearest neighbors.\u001b[39;00m\n\u001b[0;32m    724\u001b[0m \n\u001b[0;32m    725\u001b[0m \u001b[38;5;124;03mCallback to :func:`sklearn.metrics.pairwise.pairwise_distances_chunked`\u001b[39;00m\n\u001b[1;32m   (...)\u001b[0m\n\u001b[0;32m    747\u001b[0m \u001b[38;5;124;03m    The neighbors indices.\u001b[39;00m\n\u001b[0;32m    748\u001b[0m \u001b[38;5;124;03m\"\"\"\u001b[39;00m\n\u001b[0;32m    749\u001b[0m sample_range \u001b[38;5;241m=\u001b[39m np\u001b[38;5;241m.\u001b[39marange(dist\u001b[38;5;241m.\u001b[39mshape[\u001b[38;5;241m0\u001b[39m])[:, \u001b[38;5;28;01mNone\u001b[39;00m]\n\u001b[1;32m--> 750\u001b[0m neigh_ind \u001b[38;5;241m=\u001b[39m \u001b[43mnp\u001b[49m\u001b[38;5;241;43m.\u001b[39;49m\u001b[43margpartition\u001b[49m\u001b[43m(\u001b[49m\u001b[43mdist\u001b[49m\u001b[43m,\u001b[49m\u001b[43m \u001b[49m\u001b[43mn_neighbors\u001b[49m\u001b[43m \u001b[49m\u001b[38;5;241;43m-\u001b[39;49m\u001b[43m \u001b[49m\u001b[38;5;241;43m1\u001b[39;49m\u001b[43m,\u001b[49m\u001b[43m \u001b[49m\u001b[43maxis\u001b[49m\u001b[38;5;241;43m=\u001b[39;49m\u001b[38;5;241;43m1\u001b[39;49m\u001b[43m)\u001b[49m\n\u001b[0;32m    751\u001b[0m neigh_ind \u001b[38;5;241m=\u001b[39m neigh_ind[:, :n_neighbors]\n\u001b[0;32m    752\u001b[0m \u001b[38;5;66;03m# argpartition doesn't guarantee sorted order, so we sort again\u001b[39;00m\n",
      "File \u001b[1;32m~\\AppData\\Local\\Programs\\Python\\Python312\\Lib\\site-packages\\numpy\\_core\\fromnumeric.py:908\u001b[0m, in \u001b[0;36margpartition\u001b[1;34m(a, kth, axis, kind, order)\u001b[0m\n\u001b[0;32m    828\u001b[0m \u001b[38;5;129m@array_function_dispatch\u001b[39m(_argpartition_dispatcher)\n\u001b[0;32m    829\u001b[0m \u001b[38;5;28;01mdef\u001b[39;00m \u001b[38;5;21margpartition\u001b[39m(a, kth, axis\u001b[38;5;241m=\u001b[39m\u001b[38;5;241m-\u001b[39m\u001b[38;5;241m1\u001b[39m, kind\u001b[38;5;241m=\u001b[39m\u001b[38;5;124m'\u001b[39m\u001b[38;5;124mintroselect\u001b[39m\u001b[38;5;124m'\u001b[39m, order\u001b[38;5;241m=\u001b[39m\u001b[38;5;28;01mNone\u001b[39;00m):\n\u001b[0;32m    830\u001b[0m \u001b[38;5;250m    \u001b[39m\u001b[38;5;124;03m\"\"\"\u001b[39;00m\n\u001b[0;32m    831\u001b[0m \u001b[38;5;124;03m    Perform an indirect partition along the given axis using the\u001b[39;00m\n\u001b[0;32m    832\u001b[0m \u001b[38;5;124;03m    algorithm specified by the `kind` keyword. It returns an array of\u001b[39;00m\n\u001b[1;32m   (...)\u001b[0m\n\u001b[0;32m    906\u001b[0m \n\u001b[0;32m    907\u001b[0m \u001b[38;5;124;03m    \"\"\"\u001b[39;00m\n\u001b[1;32m--> 908\u001b[0m     \u001b[38;5;28;01mreturn\u001b[39;00m \u001b[43m_wrapfunc\u001b[49m\u001b[43m(\u001b[49m\u001b[43ma\u001b[49m\u001b[43m,\u001b[49m\u001b[43m \u001b[49m\u001b[38;5;124;43m'\u001b[39;49m\u001b[38;5;124;43margpartition\u001b[39;49m\u001b[38;5;124;43m'\u001b[39;49m\u001b[43m,\u001b[49m\u001b[43m \u001b[49m\u001b[43mkth\u001b[49m\u001b[43m,\u001b[49m\u001b[43m \u001b[49m\u001b[43maxis\u001b[49m\u001b[38;5;241;43m=\u001b[39;49m\u001b[43maxis\u001b[49m\u001b[43m,\u001b[49m\u001b[43m \u001b[49m\u001b[43mkind\u001b[49m\u001b[38;5;241;43m=\u001b[39;49m\u001b[43mkind\u001b[49m\u001b[43m,\u001b[49m\u001b[43m \u001b[49m\u001b[43morder\u001b[49m\u001b[38;5;241;43m=\u001b[39;49m\u001b[43morder\u001b[49m\u001b[43m)\u001b[49m\n",
      "File \u001b[1;32m~\\AppData\\Local\\Programs\\Python\\Python312\\Lib\\site-packages\\numpy\\_core\\fromnumeric.py:57\u001b[0m, in \u001b[0;36m_wrapfunc\u001b[1;34m(obj, method, *args, **kwds)\u001b[0m\n\u001b[0;32m     54\u001b[0m     \u001b[38;5;28;01mreturn\u001b[39;00m _wrapit(obj, method, \u001b[38;5;241m*\u001b[39margs, \u001b[38;5;241m*\u001b[39m\u001b[38;5;241m*\u001b[39mkwds)\n\u001b[0;32m     56\u001b[0m \u001b[38;5;28;01mtry\u001b[39;00m:\n\u001b[1;32m---> 57\u001b[0m     \u001b[38;5;28;01mreturn\u001b[39;00m \u001b[43mbound\u001b[49m\u001b[43m(\u001b[49m\u001b[38;5;241;43m*\u001b[39;49m\u001b[43margs\u001b[49m\u001b[43m,\u001b[49m\u001b[43m \u001b[49m\u001b[38;5;241;43m*\u001b[39;49m\u001b[38;5;241;43m*\u001b[39;49m\u001b[43mkwds\u001b[49m\u001b[43m)\u001b[49m\n\u001b[0;32m     58\u001b[0m \u001b[38;5;28;01mexcept\u001b[39;00m \u001b[38;5;167;01mTypeError\u001b[39;00m:\n\u001b[0;32m     59\u001b[0m     \u001b[38;5;66;03m# A TypeError occurs if the object does have such a method in its\u001b[39;00m\n\u001b[0;32m     60\u001b[0m     \u001b[38;5;66;03m# class, but its signature is not identical to that of NumPy's. This\u001b[39;00m\n\u001b[1;32m   (...)\u001b[0m\n\u001b[0;32m     64\u001b[0m     \u001b[38;5;66;03m# Call _wrapit from within the except clause to ensure a potential\u001b[39;00m\n\u001b[0;32m     65\u001b[0m     \u001b[38;5;66;03m# exception has a traceback chain.\u001b[39;00m\n\u001b[0;32m     66\u001b[0m     \u001b[38;5;28;01mreturn\u001b[39;00m _wrapit(obj, method, \u001b[38;5;241m*\u001b[39margs, \u001b[38;5;241m*\u001b[39m\u001b[38;5;241m*\u001b[39mkwds)\n",
      "\u001b[1;31mKeyboardInterrupt\u001b[0m: "
     ]
    }
   ],
   "source": [
    "modelling_scoring(models, X_train, y_train, X_test, y_test)"
   ]
  },
  {
   "cell_type": "code",
   "execution_count": null,
   "id": "8aa41d59-9823-4dec-ade7-01067dc7eeb2",
   "metadata": {},
   "outputs": [],
   "source": [
    "plt.style.use(\"fivethirtyeight\")\n",
    "fig, ax = plt.subplots(figsize = (10, 4))\n",
    "ax.bar(model_score.keys(), model_score.values(), color = [\"salmon\", \"lightblue\", \"orange\", \"violet\"])\n",
    "ax.set(xlabel = \"Models\", ylabel = \"Accuracy\", title = \"Accuracy of different models\");\n",
    "print(model_score)"
   ]
  },
  {
   "cell_type": "markdown",
   "id": "a64111d7-a3bf-423b-a590-629cd52acd06",
   "metadata": {},
   "source": [
    "Clearly, RandomForest ha worked the best. Let's further hypertune this only"
   ]
  },
  {
   "cell_type": "code",
   "execution_count": null,
   "id": "680a698f-5cf1-407e-a05a-e5c4106c116a",
   "metadata": {},
   "outputs": [],
   "source": [
    "def comparizon(y_true, y_pred):\n",
    "    pd.DataFrame(y_true, y_pred)"
   ]
  },
  {
   "cell_type": "code",
   "execution_count": 28,
   "id": "66484849-8b68-43a7-a92a-a27732f3386e",
   "metadata": {},
   "outputs": [
    {
     "data": {
      "text/plain": [
       "0.931864"
      ]
     },
     "execution_count": 28,
     "metadata": {},
     "output_type": "execute_result"
    }
   ],
   "source": [
    "model = RandomForestClassifier(n_estimators=100, n_jobs=-1)\n",
    "model.fit(X_train, y_train)\n",
    "\n",
    "# y_pred_prob = model.predict_proba(X_test)[:, 1]\n",
    "model.score(X_test, y_test)"
   ]
  },
  {
   "cell_type": "code",
   "execution_count": 29,
   "id": "f87def62-929f-4cbc-86dc-c3fcfa329275",
   "metadata": {},
   "outputs": [],
   "source": [
    "y_pred_prob = model.predict_proba(test_data)[:, 1]"
   ]
  },
  {
   "cell_type": "code",
   "execution_count": 30,
   "id": "9eff978f-f1e9-493c-a621-38f5d78b415e",
   "metadata": {},
   "outputs": [
    {
     "data": {
      "text/plain": [
       "250000"
      ]
     },
     "execution_count": 30,
     "metadata": {},
     "output_type": "execute_result"
    }
   ],
   "source": [
    "len(y_pred_prob)"
   ]
  },
  {
   "cell_type": "code",
   "execution_count": null,
   "id": "28122c13-ff9f-4543-b767-bd786be3d215",
   "metadata": {},
   "outputs": [],
   "source": [
    "test_data_id = pd.read_csv(\"./Resources/test.csv\")\n",
    "test_data_id[\"id\"]"
   ]
  },
  {
   "cell_type": "code",
   "execution_count": null,
   "id": "feac2930-dcdc-4e77-b176-91252e1e613b",
   "metadata": {},
   "outputs": [],
   "source": [
    "submission_1 = pd.DataFrame()\n",
    "submission_1[\"id\"] = test_data_id[\"id\"]\n",
    "submission_1[\"y\"] = y_pred_prob\n",
    "submission_1.head()"
   ]
  },
  {
   "cell_type": "code",
   "execution_count": null,
   "id": "f2ea548e-b1c6-4aaa-986f-ee722cfa30ec",
   "metadata": {},
   "outputs": [],
   "source": [
    "y_pred_prob"
   ]
  },
  {
   "cell_type": "code",
   "execution_count": null,
   "id": "1ab0fb3a-2d40-42d4-994c-fc3207341005",
   "metadata": {},
   "outputs": [],
   "source": [
    "len(submission_1)"
   ]
  },
  {
   "cell_type": "code",
   "execution_count": null,
   "id": "972a0819-c6f5-420f-b4b4-fdf9d69cc79d",
   "metadata": {},
   "outputs": [],
   "source": [
    "submission_1.to_csv(\"submission_1.csv\", index = False)"
   ]
  },
  {
   "cell_type": "markdown",
   "id": "863d67d6-e477-4f3f-868f-7aea54b2332f",
   "metadata": {},
   "source": [
    "## Did the first submission with :\n",
    "1. Accuracy 0.931864\n",
    "2. Model RandomForestClassifier(n_estimators=100, n_jobs=-1)\n",
    "3. `tain.csv` dataset was split into 50% of the test and 50% of the training data.\n",
    "4. And the model was trained on the entire 50% of the `train.csv` data and even the score came was with the evaluation of the rest 50%.\n",
    "\n",
    "## What we'll be trying further:\n",
    "1. Increasing the training data to 70% and shuffling it as well.\n",
    "2. Use GridSearchCV"
   ]
  },
  {
   "cell_type": "code",
   "execution_count": 10,
   "id": "b44d58d5-452b-43ed-8bb6-52af0ee2de6d",
   "metadata": {},
   "outputs": [
    {
     "data": {
      "text/html": [
       "<div>\n",
       "<style scoped>\n",
       "    .dataframe tbody tr th:only-of-type {\n",
       "        vertical-align: middle;\n",
       "    }\n",
       "\n",
       "    .dataframe tbody tr th {\n",
       "        vertical-align: top;\n",
       "    }\n",
       "\n",
       "    .dataframe thead th {\n",
       "        text-align: right;\n",
       "    }\n",
       "</style>\n",
       "<table border=\"1\" class=\"dataframe\">\n",
       "  <thead>\n",
       "    <tr style=\"text-align: right;\">\n",
       "      <th></th>\n",
       "      <th>age</th>\n",
       "      <th>job</th>\n",
       "      <th>marital</th>\n",
       "      <th>education</th>\n",
       "      <th>default</th>\n",
       "      <th>balance</th>\n",
       "      <th>housing</th>\n",
       "      <th>loan</th>\n",
       "      <th>contact</th>\n",
       "      <th>day</th>\n",
       "      <th>month</th>\n",
       "      <th>duration</th>\n",
       "      <th>campaign</th>\n",
       "      <th>pdays</th>\n",
       "      <th>previous</th>\n",
       "      <th>poutcome</th>\n",
       "      <th>y</th>\n",
       "    </tr>\n",
       "  </thead>\n",
       "  <tbody>\n",
       "    <tr>\n",
       "      <th>0</th>\n",
       "      <td>42</td>\n",
       "      <td>9</td>\n",
       "      <td>1</td>\n",
       "      <td>1</td>\n",
       "      <td>0</td>\n",
       "      <td>7</td>\n",
       "      <td>0</td>\n",
       "      <td>0</td>\n",
       "      <td>0</td>\n",
       "      <td>25</td>\n",
       "      <td>1</td>\n",
       "      <td>117</td>\n",
       "      <td>3</td>\n",
       "      <td>-1</td>\n",
       "      <td>0</td>\n",
       "      <td>3</td>\n",
       "      <td>0</td>\n",
       "    </tr>\n",
       "    <tr>\n",
       "      <th>1</th>\n",
       "      <td>38</td>\n",
       "      <td>1</td>\n",
       "      <td>1</td>\n",
       "      <td>1</td>\n",
       "      <td>0</td>\n",
       "      <td>514</td>\n",
       "      <td>0</td>\n",
       "      <td>0</td>\n",
       "      <td>2</td>\n",
       "      <td>18</td>\n",
       "      <td>6</td>\n",
       "      <td>185</td>\n",
       "      <td>1</td>\n",
       "      <td>-1</td>\n",
       "      <td>0</td>\n",
       "      <td>3</td>\n",
       "      <td>0</td>\n",
       "    </tr>\n",
       "    <tr>\n",
       "      <th>2</th>\n",
       "      <td>36</td>\n",
       "      <td>1</td>\n",
       "      <td>1</td>\n",
       "      <td>1</td>\n",
       "      <td>0</td>\n",
       "      <td>602</td>\n",
       "      <td>1</td>\n",
       "      <td>0</td>\n",
       "      <td>2</td>\n",
       "      <td>14</td>\n",
       "      <td>8</td>\n",
       "      <td>111</td>\n",
       "      <td>2</td>\n",
       "      <td>-1</td>\n",
       "      <td>0</td>\n",
       "      <td>3</td>\n",
       "      <td>0</td>\n",
       "    </tr>\n",
       "    <tr>\n",
       "      <th>3</th>\n",
       "      <td>27</td>\n",
       "      <td>8</td>\n",
       "      <td>2</td>\n",
       "      <td>1</td>\n",
       "      <td>0</td>\n",
       "      <td>34</td>\n",
       "      <td>1</td>\n",
       "      <td>0</td>\n",
       "      <td>2</td>\n",
       "      <td>28</td>\n",
       "      <td>8</td>\n",
       "      <td>10</td>\n",
       "      <td>2</td>\n",
       "      <td>-1</td>\n",
       "      <td>0</td>\n",
       "      <td>3</td>\n",
       "      <td>0</td>\n",
       "    </tr>\n",
       "    <tr>\n",
       "      <th>4</th>\n",
       "      <td>26</td>\n",
       "      <td>9</td>\n",
       "      <td>1</td>\n",
       "      <td>1</td>\n",
       "      <td>0</td>\n",
       "      <td>889</td>\n",
       "      <td>1</td>\n",
       "      <td>0</td>\n",
       "      <td>0</td>\n",
       "      <td>3</td>\n",
       "      <td>3</td>\n",
       "      <td>902</td>\n",
       "      <td>1</td>\n",
       "      <td>-1</td>\n",
       "      <td>0</td>\n",
       "      <td>3</td>\n",
       "      <td>1</td>\n",
       "    </tr>\n",
       "  </tbody>\n",
       "</table>\n",
       "</div>"
      ],
      "text/plain": [
       "   age  job  marital  education  default  balance  housing  loan  contact  \\\n",
       "0   42    9        1          1        0        7        0     0        0   \n",
       "1   38    1        1          1        0      514        0     0        2   \n",
       "2   36    1        1          1        0      602        1     0        2   \n",
       "3   27    8        2          1        0       34        1     0        2   \n",
       "4   26    9        1          1        0      889        1     0        0   \n",
       "\n",
       "   day  month  duration  campaign  pdays  previous  poutcome  y  \n",
       "0   25      1       117         3     -1         0         3  0  \n",
       "1   18      6       185         1     -1         0         3  0  \n",
       "2   14      8       111         2     -1         0         3  0  \n",
       "3   28      8        10         2     -1         0         3  0  \n",
       "4    3      3       902         1     -1         0         3  1  "
      ]
     },
     "execution_count": 10,
     "metadata": {},
     "output_type": "execute_result"
    }
   ],
   "source": [
    "# Shuffling the entire train.csv data\n",
    "\n",
    "data.head()"
   ]
  },
  {
   "cell_type": "code",
   "execution_count": 11,
   "id": "03bf260e-9924-48e6-a1af-b05996ea612f",
   "metadata": {},
   "outputs": [
    {
     "data": {
      "text/html": [
       "<div>\n",
       "<style scoped>\n",
       "    .dataframe tbody tr th:only-of-type {\n",
       "        vertical-align: middle;\n",
       "    }\n",
       "\n",
       "    .dataframe tbody tr th {\n",
       "        vertical-align: top;\n",
       "    }\n",
       "\n",
       "    .dataframe thead th {\n",
       "        text-align: right;\n",
       "    }\n",
       "</style>\n",
       "<table border=\"1\" class=\"dataframe\">\n",
       "  <thead>\n",
       "    <tr style=\"text-align: right;\">\n",
       "      <th></th>\n",
       "      <th>age</th>\n",
       "      <th>job</th>\n",
       "      <th>marital</th>\n",
       "      <th>education</th>\n",
       "      <th>default</th>\n",
       "      <th>balance</th>\n",
       "      <th>housing</th>\n",
       "      <th>loan</th>\n",
       "      <th>contact</th>\n",
       "      <th>day</th>\n",
       "      <th>month</th>\n",
       "      <th>duration</th>\n",
       "      <th>campaign</th>\n",
       "      <th>pdays</th>\n",
       "      <th>previous</th>\n",
       "      <th>poutcome</th>\n",
       "      <th>y</th>\n",
       "    </tr>\n",
       "  </thead>\n",
       "  <tbody>\n",
       "    <tr>\n",
       "      <th>404846</th>\n",
       "      <td>46</td>\n",
       "      <td>7</td>\n",
       "      <td>2</td>\n",
       "      <td>1</td>\n",
       "      <td>0</td>\n",
       "      <td>1279</td>\n",
       "      <td>0</td>\n",
       "      <td>1</td>\n",
       "      <td>0</td>\n",
       "      <td>18</td>\n",
       "      <td>5</td>\n",
       "      <td>114</td>\n",
       "      <td>2</td>\n",
       "      <td>-1</td>\n",
       "      <td>0</td>\n",
       "      <td>3</td>\n",
       "      <td>0</td>\n",
       "    </tr>\n",
       "    <tr>\n",
       "      <th>580313</th>\n",
       "      <td>27</td>\n",
       "      <td>0</td>\n",
       "      <td>2</td>\n",
       "      <td>1</td>\n",
       "      <td>0</td>\n",
       "      <td>2501</td>\n",
       "      <td>0</td>\n",
       "      <td>0</td>\n",
       "      <td>0</td>\n",
       "      <td>13</td>\n",
       "      <td>1</td>\n",
       "      <td>438</td>\n",
       "      <td>1</td>\n",
       "      <td>105</td>\n",
       "      <td>1</td>\n",
       "      <td>2</td>\n",
       "      <td>0</td>\n",
       "    </tr>\n",
       "    <tr>\n",
       "      <th>552086</th>\n",
       "      <td>36</td>\n",
       "      <td>7</td>\n",
       "      <td>1</td>\n",
       "      <td>1</td>\n",
       "      <td>0</td>\n",
       "      <td>1355</td>\n",
       "      <td>0</td>\n",
       "      <td>0</td>\n",
       "      <td>2</td>\n",
       "      <td>20</td>\n",
       "      <td>6</td>\n",
       "      <td>10</td>\n",
       "      <td>4</td>\n",
       "      <td>-1</td>\n",
       "      <td>0</td>\n",
       "      <td>3</td>\n",
       "      <td>0</td>\n",
       "    </tr>\n",
       "    <tr>\n",
       "      <th>370876</th>\n",
       "      <td>59</td>\n",
       "      <td>4</td>\n",
       "      <td>1</td>\n",
       "      <td>0</td>\n",
       "      <td>0</td>\n",
       "      <td>1516</td>\n",
       "      <td>0</td>\n",
       "      <td>0</td>\n",
       "      <td>0</td>\n",
       "      <td>3</td>\n",
       "      <td>3</td>\n",
       "      <td>71</td>\n",
       "      <td>2</td>\n",
       "      <td>-1</td>\n",
       "      <td>0</td>\n",
       "      <td>3</td>\n",
       "      <td>0</td>\n",
       "    </tr>\n",
       "    <tr>\n",
       "      <th>239330</th>\n",
       "      <td>39</td>\n",
       "      <td>9</td>\n",
       "      <td>1</td>\n",
       "      <td>2</td>\n",
       "      <td>0</td>\n",
       "      <td>3370</td>\n",
       "      <td>0</td>\n",
       "      <td>0</td>\n",
       "      <td>0</td>\n",
       "      <td>14</td>\n",
       "      <td>1</td>\n",
       "      <td>114</td>\n",
       "      <td>2</td>\n",
       "      <td>-1</td>\n",
       "      <td>0</td>\n",
       "      <td>3</td>\n",
       "      <td>0</td>\n",
       "    </tr>\n",
       "  </tbody>\n",
       "</table>\n",
       "</div>"
      ],
      "text/plain": [
       "        age  job  marital  education  default  balance  housing  loan  \\\n",
       "404846   46    7        2          1        0     1279        0     1   \n",
       "580313   27    0        2          1        0     2501        0     0   \n",
       "552086   36    7        1          1        0     1355        0     0   \n",
       "370876   59    4        1          0        0     1516        0     0   \n",
       "239330   39    9        1          2        0     3370        0     0   \n",
       "\n",
       "        contact  day  month  duration  campaign  pdays  previous  poutcome  y  \n",
       "404846        0   18      5       114         2     -1         0         3  0  \n",
       "580313        0   13      1       438         1    105         1         2  0  \n",
       "552086        2   20      6        10         4     -1         0         3  0  \n",
       "370876        0    3      3        71         2     -1         0         3  0  \n",
       "239330        0   14      1       114         2     -1         0         3  0  "
      ]
     },
     "execution_count": 11,
     "metadata": {},
     "output_type": "execute_result"
    }
   ],
   "source": [
    "np.random.seed(42)\n",
    "data = data.sample(frac = 1)\n",
    "data.head()"
   ]
  },
  {
   "cell_type": "code",
   "execution_count": 12,
   "id": "94b1c9c0-0ad9-444f-8299-30c1f0e9dc62",
   "metadata": {},
   "outputs": [
    {
     "name": "stdout",
     "output_type": "stream",
     "text": [
      "<class 'pandas.core.frame.DataFrame'>\n",
      "Index: 750000 entries, 404846 to 121958\n",
      "Data columns (total 16 columns):\n",
      " #   Column     Non-Null Count   Dtype\n",
      "---  ------     --------------   -----\n",
      " 0   age        750000 non-null  int64\n",
      " 1   job        750000 non-null  int8 \n",
      " 2   marital    750000 non-null  int8 \n",
      " 3   education  750000 non-null  int8 \n",
      " 4   default    750000 non-null  int8 \n",
      " 5   balance    750000 non-null  int64\n",
      " 6   housing    750000 non-null  int8 \n",
      " 7   loan       750000 non-null  int8 \n",
      " 8   contact    750000 non-null  int8 \n",
      " 9   day        750000 non-null  int64\n",
      " 10  month      750000 non-null  int8 \n",
      " 11  duration   750000 non-null  int64\n",
      " 12  campaign   750000 non-null  int64\n",
      " 13  pdays      750000 non-null  int64\n",
      " 14  previous   750000 non-null  int64\n",
      " 15  poutcome   750000 non-null  int8 \n",
      "dtypes: int64(7), int8(9)\n",
      "memory usage: 52.2 MB\n",
      "<class 'pandas.core.series.Series'>\n",
      "Index: 750000 entries, 404846 to 121958\n",
      "Series name: y\n",
      "Non-Null Count   Dtype\n",
      "--------------   -----\n",
      "750000 non-null  int64\n",
      "dtypes: int64(1)\n",
      "memory usage: 11.4 MB\n"
     ]
    },
    {
     "data": {
      "text/plain": [
       "(None, None)"
      ]
     },
     "execution_count": 12,
     "metadata": {},
     "output_type": "execute_result"
    }
   ],
   "source": [
    "X = data.drop(\"y\", axis = 1)\n",
    "y = data[\"y\"]\n",
    "X.info(), y.info()"
   ]
  },
  {
   "cell_type": "code",
   "execution_count": 14,
   "id": "c65bd38a-3223-447d-9910-4d2bd125155e",
   "metadata": {},
   "outputs": [],
   "source": [
    "# train_test_split\n",
    "from sklearn.model_selection import train_test_split\n",
    "X_train, X_test, y_train, y_test = train_test_split(X, y, test_size = 0.3)"
   ]
  },
  {
   "cell_type": "code",
   "execution_count": 15,
   "id": "073f4e39-a2af-4950-ab63-5b98cc34b359",
   "metadata": {},
   "outputs": [
    {
     "ename": "NameError",
     "evalue": "name 'RandomForestClassifier' is not defined",
     "output_type": "error",
     "traceback": [
      "\u001b[1;31m---------------------------------------------------------------------------\u001b[0m",
      "\u001b[1;31mNameError\u001b[0m                                 Traceback (most recent call last)",
      "Cell \u001b[1;32mIn[15], line 1\u001b[0m\n\u001b[1;32m----> 1\u001b[0m model \u001b[38;5;241m=\u001b[39m \u001b[43mRandomForestClassifier\u001b[49m(n_estimators\u001b[38;5;241m=\u001b[39m\u001b[38;5;241m200\u001b[39m, n_jobs \u001b[38;5;241m=\u001b[39m \u001b[38;5;241m-\u001b[39m\u001b[38;5;241m1\u001b[39m)\n\u001b[0;32m      2\u001b[0m model\u001b[38;5;241m.\u001b[39mfit(X_train, y_train)\n\u001b[0;32m      3\u001b[0m \u001b[38;5;66;03m# y_pred_proba = model.predict_proba(X_test)\u001b[39;00m\n",
      "\u001b[1;31mNameError\u001b[0m: name 'RandomForestClassifier' is not defined"
     ]
    }
   ],
   "source": [
    "model = RandomForestClassifier(n_estimators=300, n_jobs = -1, max_depth = 30, max_features = \"sqrt\")\n",
    "model.fit(X_train, y_train)\n",
    "# y_pred_proba = model.predict_proba(X_test)\n",
    "model.score(X_test, y_test)\n",
    "\n",
    "# This has the score: 0.9331955555555556"
   ]
  },
  {
   "cell_type": "code",
   "execution_count": 43,
   "id": "35450b49-3182-48cf-b7f8-34ca4aefc7b3",
   "metadata": {},
   "outputs": [],
   "source": [
    "y_pred_prob = model.predict_proba(test_data)[:, 1]\n",
    "y_pred_prob"
   ]
  },
  {
   "cell_type": "code",
   "execution_count": null,
   "id": "71d14834-c427-4d1f-ac56-a78b1aa47800",
   "metadata": {},
   "outputs": [
    {
     "name": "stdout",
     "output_type": "stream",
     "text": [
      "Fitting 5 folds for each of 36 candidates, totalling 180 fits\n"
     ]
    }
   ],
   "source": [
    "submission_2 = pd.DataFrame()\n",
    "submission_2[\"id\"] = test_data_id[\"id\"]\n",
    "submission_2[\"y\"] = y_pred_prob\n",
    "submission_2.head()"
   ]
  },
  {
   "cell_type": "code",
   "execution_count": 16,
   "id": "b1655e9c-96de-464c-a6cd-8d4a662d97a2",
   "metadata": {},
   "outputs": [],
   "source": [
    "# That is how we submitted the second submission.\n"
   ]
  },
  {
   "cell_type": "code",
   "execution_count": null,
   "id": "49623444-6df8-4437-823a-7c0516da65c2",
   "metadata": {},
   "outputs": [],
   "source": []
  }
 ],
 "metadata": {
  "kernelspec": {
   "display_name": "Python 3 (ipykernel)",
   "language": "python",
   "name": "python3"
  },
  "language_info": {
   "codemirror_mode": {
    "name": "ipython",
    "version": 3
   },
   "file_extension": ".py",
   "mimetype": "text/x-python",
   "name": "python",
   "nbconvert_exporter": "python",
   "pygments_lexer": "ipython3",
   "version": "3.12.4"
  }
 },
 "nbformat": 4,
 "nbformat_minor": 5
}
